{
  "nbformat": 4,
  "nbformat_minor": 0,
  "metadata": {
    "colab": {
      "name": "Trial #5 - (LSTM)StockPrediction.ipynb",
      "provenance": [],
      "collapsed_sections": []
    },
    "kernelspec": {
      "name": "python3",
      "display_name": "Python 3"
    },
    "accelerator": "GPU"
  },
  "cells": [
    {
      "cell_type": "code",
      "metadata": {
        "id": "jSB_GKEmebat",
        "colab_type": "code",
        "colab": {}
      },
      "source": [
        "# Description: This program uses an artificial recurrent neural network called Long Short Term Memory (LSTM) to predict \n",
        "# the closing stock price of a corporation (Apple Inc.) using the past 60 day stock price."
      ],
      "execution_count": null,
      "outputs": []
    },
    {
      "cell_type": "code",
      "metadata": {
        "id": "knU9opwWdMcg",
        "colab_type": "code",
        "colab": {}
      },
      "source": [
        "# First and foremost, this block of code is used to import or \n",
        "# load the essential libraries that would be\n",
        "# would be used in this particular project. \n",
        "\n",
        "import math\n",
        "import pandas_datareader as web\n",
        "import numpy as np\n",
        "import pandas as pd\n",
        "from sklearn.preprocessing import MinMaxScaler\n",
        "from keras.models import Sequential\n",
        "from keras.layers import Dense, LSTM\n",
        "import matplotlib.pyplot as plt\n",
        "\n",
        "# This code is for the use of style\n",
        "plt.style.use('fivethirtyeight')"
      ],
      "execution_count": null,
      "outputs": []
    },
    {
      "cell_type": "code",
      "metadata": {
        "id": "bVS0mUthyGHt",
        "colab_type": "code",
        "colab": {
          "base_uri": "https://localhost:8080/",
          "height": 450
        },
        "outputId": "48d392d5-d324-4e82-ea42-75426f969b50"
      },
      "source": [
        "# For this block of quote, the user is intending to get \n",
        "#### the stock quote for the company 'Apple Inc.' \n",
        "#### by utilizing the stock symbol which is 'AAPL' \n",
        "#### from a certain time frame. \n",
        "\n",
        "# The time frame is from January 1, 2012 to December 17, 2019.\n",
        "# The data source is orginally from yahoo.\n",
        "\n",
        "df = web.DataReader('AAPL', data_source='yahoo', start='2012-01-01', end='2019-12-17') \n",
        "\n",
        "# This line shows the data retrieved overtime.\n",
        "df"
      ],
      "execution_count": null,
      "outputs": [
        {
          "output_type": "execute_result",
          "data": {
            "text/html": [
              "<div>\n",
              "<style scoped>\n",
              "    .dataframe tbody tr th:only-of-type {\n",
              "        vertical-align: middle;\n",
              "    }\n",
              "\n",
              "    .dataframe tbody tr th {\n",
              "        vertical-align: top;\n",
              "    }\n",
              "\n",
              "    .dataframe thead th {\n",
              "        text-align: right;\n",
              "    }\n",
              "</style>\n",
              "<table border=\"1\" class=\"dataframe\">\n",
              "  <thead>\n",
              "    <tr style=\"text-align: right;\">\n",
              "      <th></th>\n",
              "      <th>High</th>\n",
              "      <th>Low</th>\n",
              "      <th>Open</th>\n",
              "      <th>Close</th>\n",
              "      <th>Volume</th>\n",
              "      <th>Adj Close</th>\n",
              "    </tr>\n",
              "    <tr>\n",
              "      <th>Date</th>\n",
              "      <th></th>\n",
              "      <th></th>\n",
              "      <th></th>\n",
              "      <th></th>\n",
              "      <th></th>\n",
              "      <th></th>\n",
              "    </tr>\n",
              "  </thead>\n",
              "  <tbody>\n",
              "    <tr>\n",
              "      <th>2012-01-03</th>\n",
              "      <td>58.928570</td>\n",
              "      <td>58.428570</td>\n",
              "      <td>58.485714</td>\n",
              "      <td>58.747143</td>\n",
              "      <td>75555200.0</td>\n",
              "      <td>50.857235</td>\n",
              "    </tr>\n",
              "    <tr>\n",
              "      <th>2012-01-04</th>\n",
              "      <td>59.240002</td>\n",
              "      <td>58.468571</td>\n",
              "      <td>58.571430</td>\n",
              "      <td>59.062859</td>\n",
              "      <td>65005500.0</td>\n",
              "      <td>51.130558</td>\n",
              "    </tr>\n",
              "    <tr>\n",
              "      <th>2012-01-05</th>\n",
              "      <td>59.792858</td>\n",
              "      <td>58.952858</td>\n",
              "      <td>59.278572</td>\n",
              "      <td>59.718571</td>\n",
              "      <td>67817400.0</td>\n",
              "      <td>51.698215</td>\n",
              "    </tr>\n",
              "    <tr>\n",
              "      <th>2012-01-06</th>\n",
              "      <td>60.392857</td>\n",
              "      <td>59.888573</td>\n",
              "      <td>59.967144</td>\n",
              "      <td>60.342857</td>\n",
              "      <td>79573200.0</td>\n",
              "      <td>52.238651</td>\n",
              "    </tr>\n",
              "    <tr>\n",
              "      <th>2012-01-09</th>\n",
              "      <td>61.107143</td>\n",
              "      <td>60.192856</td>\n",
              "      <td>60.785713</td>\n",
              "      <td>60.247143</td>\n",
              "      <td>98506100.0</td>\n",
              "      <td>52.155792</td>\n",
              "    </tr>\n",
              "    <tr>\n",
              "      <th>...</th>\n",
              "      <td>...</td>\n",
              "      <td>...</td>\n",
              "      <td>...</td>\n",
              "      <td>...</td>\n",
              "      <td>...</td>\n",
              "      <td>...</td>\n",
              "    </tr>\n",
              "    <tr>\n",
              "      <th>2019-12-11</th>\n",
              "      <td>271.100006</td>\n",
              "      <td>268.500000</td>\n",
              "      <td>268.809998</td>\n",
              "      <td>270.769989</td>\n",
              "      <td>19689200.0</td>\n",
              "      <td>269.399658</td>\n",
              "    </tr>\n",
              "    <tr>\n",
              "      <th>2019-12-12</th>\n",
              "      <td>272.559998</td>\n",
              "      <td>267.320007</td>\n",
              "      <td>267.779999</td>\n",
              "      <td>271.459991</td>\n",
              "      <td>34327600.0</td>\n",
              "      <td>270.086151</td>\n",
              "    </tr>\n",
              "    <tr>\n",
              "      <th>2019-12-13</th>\n",
              "      <td>275.299988</td>\n",
              "      <td>270.929993</td>\n",
              "      <td>271.459991</td>\n",
              "      <td>275.149994</td>\n",
              "      <td>33396900.0</td>\n",
              "      <td>273.757477</td>\n",
              "    </tr>\n",
              "    <tr>\n",
              "      <th>2019-12-16</th>\n",
              "      <td>280.790009</td>\n",
              "      <td>276.980011</td>\n",
              "      <td>277.000000</td>\n",
              "      <td>279.859985</td>\n",
              "      <td>32046500.0</td>\n",
              "      <td>278.443604</td>\n",
              "    </tr>\n",
              "    <tr>\n",
              "      <th>2019-12-17</th>\n",
              "      <td>281.769989</td>\n",
              "      <td>278.799988</td>\n",
              "      <td>279.570007</td>\n",
              "      <td>280.410004</td>\n",
              "      <td>28539600.0</td>\n",
              "      <td>278.990875</td>\n",
              "    </tr>\n",
              "  </tbody>\n",
              "</table>\n",
              "<p>2003 rows × 6 columns</p>\n",
              "</div>"
            ],
            "text/plain": [
              "                  High         Low  ...      Volume   Adj Close\n",
              "Date                                ...                        \n",
              "2012-01-03   58.928570   58.428570  ...  75555200.0   50.857235\n",
              "2012-01-04   59.240002   58.468571  ...  65005500.0   51.130558\n",
              "2012-01-05   59.792858   58.952858  ...  67817400.0   51.698215\n",
              "2012-01-06   60.392857   59.888573  ...  79573200.0   52.238651\n",
              "2012-01-09   61.107143   60.192856  ...  98506100.0   52.155792\n",
              "...                ...         ...  ...         ...         ...\n",
              "2019-12-11  271.100006  268.500000  ...  19689200.0  269.399658\n",
              "2019-12-12  272.559998  267.320007  ...  34327600.0  270.086151\n",
              "2019-12-13  275.299988  270.929993  ...  33396900.0  273.757477\n",
              "2019-12-16  280.790009  276.980011  ...  32046500.0  278.443604\n",
              "2019-12-17  281.769989  278.799988  ...  28539600.0  278.990875\n",
              "\n",
              "[2003 rows x 6 columns]"
            ]
          },
          "metadata": {
            "tags": []
          },
          "execution_count": 18
        }
      ]
    },
    {
      "cell_type": "markdown",
      "metadata": {
        "id": "n38vRRgymaux",
        "colab_type": "text"
      },
      "source": [
        "Stock Ticker Symbols --> https://www.marketwatch.com/tools/quotes/lookup.asp\n"
      ]
    },
    {
      "cell_type": "code",
      "metadata": {
        "id": "P6_vOLPpyOdH",
        "colab_type": "code",
        "colab": {
          "base_uri": "https://localhost:8080/",
          "height": 34
        },
        "outputId": "1781205d-e02d-4091-b5b0-74cea4a516f3"
      },
      "source": [
        "# Furthermore, this code aims to render the number of rows and columns in the data \n",
        "# during the desired time frame.\n",
        "\n",
        "df.shape"
      ],
      "execution_count": null,
      "outputs": [
        {
          "output_type": "execute_result",
          "data": {
            "text/plain": [
              "(2003, 6)"
            ]
          },
          "metadata": {
            "tags": []
          },
          "execution_count": 19
        }
      ]
    },
    {
      "cell_type": "code",
      "metadata": {
        "id": "DnlobQ9wpPBU",
        "colab_type": "code",
        "colab": {
          "base_uri": "https://localhost:8080/",
          "height": 558
        },
        "outputId": "19eefc21-0ef7-41de-b4d6-db0f7d4e529b"
      },
      "source": [
        "# This code visualizes the closing price history of the chosen stock\n",
        "plt.figure(figsize=(16,8))\n",
        "plt.title('Close Price History')\n",
        "# can be open or close or high or low\n",
        "plt.plot(df['Close'])\n",
        "# This defines the x axis\n",
        "plt.xlabel('Date',fontsize=18)\n",
        "# This defines the y axis\n",
        "plt.ylabel('Close Price USD ($)',fontsize=18)\n",
        "# Exhibits the data by visualizing it\n",
        "plt.show()"
      ],
      "execution_count": null,
      "outputs": [
        {
          "output_type": "display_data",
          "data": {
            "image/png": "[encoded data removed]",
            "text/plain": [
              "<Figure size 1152x576 with 1 Axes>"
            ]
          },
          "metadata": {
            "tags": []
          }
        }
      ]
    },
    {
      "cell_type": "code",
      "metadata": {
        "id": "xcvIhrPnyO9x",
        "colab_type": "code",
        "colab": {}
      },
      "source": [
        "# This block of code aims to curate a different data frame specifically for the closing price. \n",
        "# Then, it is converted to an array and a variable is created to store the length of the \n",
        "# training data set. This training dataset contains about 80 percent of the actual data.\n",
        "\n",
        "# This part creates a different dataframe with a \"Close\" column only\n",
        "data = df.filter(['Close'])\n",
        "# This part converts the dataframe to a numpy array\n",
        "dataset = data.values\n",
        "# This part aims to get / compute the number of rows that should be used to train the model on\n",
        "training_data_len = math.ceil( len(dataset) *.50)"
      ],
      "execution_count": null,
      "outputs": []
    },
    {
      "cell_type": "code",
      "metadata": {
        "id": "8OQ3sEmeyQBs",
        "colab_type": "code",
        "colab": {}
      },
      "source": [
        "# Now scale the data set to be values between 0 and 1 inclusive, I do this because it \n",
        "# is generally good practice to scale your data before giving it to the neural network.\n",
        "\n",
        "#Scale the all of the data to be values between 0 and 1 \n",
        "scaler = MinMaxScaler(feature_range=(0, 1)) \n",
        "scaled_data = scaler.fit_transform(dataset)"
      ],
      "execution_count": null,
      "outputs": []
    },
    {
      "cell_type": "code",
      "metadata": {
        "id": "YTkE1QBRyTTC",
        "colab_type": "code",
        "colab": {}
      },
      "source": [
        "# The aims are the following point\n",
        "\n",
        "# Manage to make a data set which contains the past 60 day closing price values\n",
        "# that can be used to forecast the 61st closing price value\n",
        "\n",
        "# The first column in the \"x_train\" data set contains value from the\n",
        "# data set from the index number 0 to index number 59\n",
        "# In total, this is 60 values total\n",
        "\n",
        "# The second column in the \"y_train\" data set \n",
        "# It contains the 61st value that is located at index 60 in the first column\n",
        "# It contains the 62nd value that is located at index 61 of the particular data set for the second value\n",
        "# The pattern goes on and on \n",
        "# It's the same pattern\n",
        "\n",
        "# Make the scaled training data set using this code \n",
        "train_data = scaled_data[0:training_data_len  , : ]\n",
        "# This code splits the data from the data sets \n",
        "# The data sets are x_train and y_train\n",
        "x_train=[]\n",
        "y_train = []\n",
        "for i in range(60,len(train_data)):\n",
        "    x_train.append(train_data[i-60:i,0])\n",
        "    y_train.append(train_data[i,0])"
      ],
      "execution_count": null,
      "outputs": []
    },
    {
      "cell_type": "code",
      "metadata": {
        "id": "YLvzgwA-yV41",
        "colab_type": "code",
        "colab": {}
      },
      "source": [
        "# This part converts the independent train data set \"x_train\" \n",
        "# Dependent train is defined as the affected part by the independent variable/ data set\n",
        "\n",
        "# The dependent train data set \"y_train\" is converted to numpy arrays \n",
        "# The reason for this is so that it can be used for training the LSTM model \n",
        "\n",
        "# This part converts x_train and y_train to numpy arrays\n",
        "x_train, y_train = np.array(x_train), np.array(y_train)"
      ],
      "execution_count": null,
      "outputs": []
    },
    {
      "cell_type": "code",
      "metadata": {
        "id": "gEKrXO6WyXSz",
        "colab_type": "code",
        "colab": {}
      },
      "source": [
        "# This part aims to reshape the data to be structured into 3-dimensional in the form \n",
        "# [number of samples, number of time steps, and number of features]\n",
        "# LSTM models expect a 3-dimensional data set\n",
        "\n",
        "# Aims to reshape the data into 3-dimensional since it's the one that is accepted by the LSTM model\n",
        "x_train = np.reshape(x_train, (x_train.shape[0],x_train.shape[1],1))"
      ],
      "execution_count": null,
      "outputs": []
    },
    {
      "cell_type": "code",
      "metadata": {
        "id": "67uv7gYeyY0D",
        "colab_type": "code",
        "colab": {}
      },
      "source": [
        "# This part builds the LSTM model with certain properties\n",
        "\n",
        "# two LSTM layers with 50 neurons\n",
        "# two Dense layers \n",
        "##### first dense layer -> 25 neurons\n",
        "##### second dense layer -> 1 neuron\n",
        "\n",
        "\n",
        "#Build the LSTM network model\n",
        "model = Sequential()\n",
        "# first LSTM layer\n",
        "model.add(LSTM(units=50, return_sequences=True,input_shape=(x_train.shape[1],1)))\n",
        "# second LSTM layer\n",
        "model.add(LSTM(units=50, return_sequences=False))\n",
        "# first dense layer\n",
        "model.add(Dense(units=50))\n",
        "# second dense layer\n",
        "model.add(Dense(units=1))"
      ],
      "execution_count": null,
      "outputs": []
    },
    {
      "cell_type": "code",
      "metadata": {
        "id": "WHIeMnBYyaku",
        "colab_type": "code",
        "colab": {}
      },
      "source": [
        "# This block of code aims to compile the model using the following:\n",
        "# 1: MSE loss function \n",
        "#    MSE stands for mean squared error\n",
        "# 2: Adam optimizer\n",
        "\n",
        "# Now, this compiles the model\n",
        "model.compile(optimizer='adam', loss='mean_squared_error')"
      ],
      "execution_count": null,
      "outputs": []
    },
    {
      "cell_type": "code",
      "metadata": {
        "id": "NjYSYLYIycxU",
        "colab_type": "code",
        "colab": {
          "base_uri": "https://localhost:8080/",
          "height": 102
        },
        "outputId": "f4b0c4b1-dec6-4467-ddef-f4b38c6dcf03"
      },
      "source": [
        "# Train the model using the training data sets. Note, fit is another \n",
        "# name for train. Batch size is the total number of training examples \n",
        "# present in a single batch, and epoch is the number of iterations when \n",
        "# an entire data set is passed forward and backward through the neural \n",
        "# network.\n",
        "\n",
        "#Train the model\n",
        "model.fit(x_train, y_train, batch_size=1, epochs=2)"
      ],
      "execution_count": null,
      "outputs": [
        {
          "output_type": "stream",
          "text": [
            "Epoch 1/2\n",
            "942/942 [==============================] - 180s 191ms/step - loss: 6.4344e-04\n",
            "Epoch 2/2\n",
            "942/942 [==============================] - 174s 185ms/step - loss: 2.7326e-04\n"
          ],
          "name": "stdout"
        },
        {
          "output_type": "execute_result",
          "data": {
            "text/plain": [
              "<keras.callbacks.callbacks.History at 0x7f9dc00e5ac8>"
            ]
          },
          "metadata": {
            "tags": []
          },
          "execution_count": 28
        }
      ]
    },
    {
      "cell_type": "code",
      "metadata": {
        "id": "qeZcvLURyeZ_",
        "colab_type": "code",
        "colab": {}
      },
      "source": [
        "# Aims to create a dataset\n",
        "\n",
        "\n",
        "# Test the data set\n",
        "test_data = scaled_data[training_data_len - 60: , : ]\n",
        "\n",
        "# Create the x_test and y_test data sets\n",
        "x_test = []\n",
        "y_test =  dataset[training_data_len : , : ] \n",
        "# Get all of the rows from index 1603 to the rest and all of the columns \n",
        "# (in this case it's only column 'Close'), so 2003 - 1603 = 400 rows of data\n",
        "for i in range(60,len(test_data)):\n",
        "    x_test.append(test_data[i-60:i,0])"
      ],
      "execution_count": null,
      "outputs": []
    },
    {
      "cell_type": "code",
      "metadata": {
        "id": "r3ae94sAyf5S",
        "colab_type": "code",
        "colab": {}
      },
      "source": [
        "# This converts the independent test data set \"x_test\"\n",
        "\n",
        "# Then convert the independent test data set ‘x_test’ to a numpy \n",
        "# array so it can be used for testing the LSTM model.\n",
        "\n",
        "# Convert x_test to a numpy array \n",
        "x_test = np.array(x_test)"
      ],
      "execution_count": null,
      "outputs": []
    },
    {
      "cell_type": "code",
      "metadata": {
        "id": "dIORmjuryhfF",
        "colab_type": "code",
        "colab": {}
      },
      "source": [
        "# Aims\n",
        "# Reshape the data to be 3-dimensional in a particular form \n",
        "# The form consists of the following: \n",
        "##### number of samples\n",
        "##### number of time steps\n",
        "##### number of features\n",
        "\n",
        "# It should be done since the LSTM model is expecting a 3-dimensional dataset\n",
        "\n",
        "#This part reshapes the data into the shape accepted by the LSTM\n",
        "x_test = np.reshape(x_test, (x_test.shape[0],x_test.shape[1],1))"
      ],
      "execution_count": null,
      "outputs": []
    },
    {
      "cell_type": "code",
      "metadata": {
        "id": "zU7ygV3Ayi8D",
        "colab_type": "code",
        "colab": {}
      },
      "source": [
        "# Aim is to get the predicted values from the model using a specific test data\n",
        "\n",
        "\n",
        "# Gets the models' predicted price values\n",
        "predictions = model.predict(x_test) \n",
        "predictions = scaler.inverse_transform(predictions)\n",
        "# Undo scaling"
      ],
      "execution_count": null,
      "outputs": []
    },
    {
      "cell_type": "code",
      "metadata": {
        "id": "oNdRXV18ykda",
        "colab_type": "code",
        "colab": {
          "base_uri": "https://localhost:8080/",
          "height": 34
        },
        "outputId": "1d92f1cc-ccc9-4659-c62d-8340b67e1d93"
      },
      "source": [
        "# Aims to get the root mean squared error (RMSE)\n",
        "# (RMSE) is the measure of the model's accuracy\n",
        "# 0 indicates the models predicted values that match the values from the data set perfectly\n",
        "\n",
        "# The lower the value the better the model performed\n",
        "# It is best to utilize other metrics to get an idea of the model's real performance\n",
        "\n",
        "# Calculate/Get the value of RMSE\n",
        "rmse=np.sqrt(np.mean(((predictions- y_test)**2)))\n",
        "rmse"
      ],
      "execution_count": null,
      "outputs": [
        {
          "output_type": "execute_result",
          "data": {
            "text/plain": [
              "8.939634991716115"
            ]
          },
          "metadata": {
            "tags": []
          },
          "execution_count": 33
        }
      ]
    },
    {
      "cell_type": "code",
      "metadata": {
        "id": "-5AGtufyylzv",
        "colab_type": "code",
        "colab": {
          "base_uri": "https://localhost:8080/",
          "height": 660
        },
        "outputId": "0f46d5ec-6c71-4ec9-ca9b-1a800ebee761"
      },
      "source": [
        "# This part plots and visualizes the data\n",
        "\n",
        "# Plot/Create the data for the graph\n",
        "train = data[:training_data_len]\n",
        "valid = data[training_data_len:]\n",
        "valid['Predictions'] = predictions\n",
        "\n",
        "# Visualizes the data\n",
        "plt.figure(figsize=(16,8))\n",
        "plt.title('Model')\n",
        "plt.xlabel('Date', fontsize=18)\n",
        "plt.ylabel('Close Price USD ($)', fontsize=18)\n",
        "plt.plot(train['Close'])\n",
        "plt.plot(valid[['Close', 'Predictions']])\n",
        "plt.legend(['Train', 'Val', 'Predictions'], loc='lower right')\n",
        "plt.show()"
      ],
      "execution_count": null,
      "outputs": [
        {
          "output_type": "stream",
          "text": [
            "/usr/local/lib/python3.6/dist-packages/ipykernel_launcher.py:6: SettingWithCopyWarning: \n",
            "A value is trying to be set on a copy of a slice from a DataFrame.\n",
            "Try using .loc[row_indexer,col_indexer] = value instead\n",
            "\n",
            "See the caveats in the documentation: https://pandas.pydata.org/pandas-docs/stable/user_guide/indexing.html#returning-a-view-versus-a-copy\n",
            "  \n"
          ],
          "name": "stderr"
        },
        {
          "output_type": "display_data",
          "data": {
            "image/png": "[encoded data removed]",
            "text/plain": [
              "<Figure size 1152x576 with 1 Axes>"
            ]
          },
          "metadata": {
            "tags": []
          }
        }
      ]
    },
    {
      "cell_type": "code",
      "metadata": {
        "id": "JiLPPc0hynqW",
        "colab_type": "code",
        "colab": {
          "base_uri": "https://localhost:8080/",
          "height": 450
        },
        "outputId": "d68af4c9-4398-46b3-a890-fc05cafedcae"
      },
      "source": [
        "# Show the actual prices and predicted prices\n",
        "valid"
      ],
      "execution_count": null,
      "outputs": [
        {
          "output_type": "execute_result",
          "data": {
            "text/html": [
              "<div>\n",
              "<style scoped>\n",
              "    .dataframe tbody tr th:only-of-type {\n",
              "        vertical-align: middle;\n",
              "    }\n",
              "\n",
              "    .dataframe tbody tr th {\n",
              "        vertical-align: top;\n",
              "    }\n",
              "\n",
              "    .dataframe thead th {\n",
              "        text-align: right;\n",
              "    }\n",
              "</style>\n",
              "<table border=\"1\" class=\"dataframe\">\n",
              "  <thead>\n",
              "    <tr style=\"text-align: right;\">\n",
              "      <th></th>\n",
              "      <th>Close</th>\n",
              "      <th>Predictions</th>\n",
              "    </tr>\n",
              "    <tr>\n",
              "      <th>Date</th>\n",
              "      <th></th>\n",
              "      <th></th>\n",
              "    </tr>\n",
              "  </thead>\n",
              "  <tbody>\n",
              "    <tr>\n",
              "      <th>2015-12-28</th>\n",
              "      <td>106.820000</td>\n",
              "      <td>108.595230</td>\n",
              "    </tr>\n",
              "    <tr>\n",
              "      <th>2015-12-29</th>\n",
              "      <td>108.739998</td>\n",
              "      <td>108.338715</td>\n",
              "    </tr>\n",
              "    <tr>\n",
              "      <th>2015-12-30</th>\n",
              "      <td>107.320000</td>\n",
              "      <td>108.368774</td>\n",
              "    </tr>\n",
              "    <tr>\n",
              "      <th>2015-12-31</th>\n",
              "      <td>105.260002</td>\n",
              "      <td>108.344315</td>\n",
              "    </tr>\n",
              "    <tr>\n",
              "      <th>2016-01-04</th>\n",
              "      <td>105.349998</td>\n",
              "      <td>108.027596</td>\n",
              "    </tr>\n",
              "    <tr>\n",
              "      <th>...</th>\n",
              "      <td>...</td>\n",
              "      <td>...</td>\n",
              "    </tr>\n",
              "    <tr>\n",
              "      <th>2019-12-11</th>\n",
              "      <td>270.769989</td>\n",
              "      <td>245.561218</td>\n",
              "    </tr>\n",
              "    <tr>\n",
              "      <th>2019-12-12</th>\n",
              "      <td>271.459991</td>\n",
              "      <td>246.483032</td>\n",
              "    </tr>\n",
              "    <tr>\n",
              "      <th>2019-12-13</th>\n",
              "      <td>275.149994</td>\n",
              "      <td>247.431549</td>\n",
              "    </tr>\n",
              "    <tr>\n",
              "      <th>2019-12-16</th>\n",
              "      <td>279.859985</td>\n",
              "      <td>248.753143</td>\n",
              "    </tr>\n",
              "    <tr>\n",
              "      <th>2019-12-17</th>\n",
              "      <td>280.410004</td>\n",
              "      <td>250.655472</td>\n",
              "    </tr>\n",
              "  </tbody>\n",
              "</table>\n",
              "<p>1001 rows × 2 columns</p>\n",
              "</div>"
            ],
            "text/plain": [
              "                 Close  Predictions\n",
              "Date                               \n",
              "2015-12-28  106.820000   108.595230\n",
              "2015-12-29  108.739998   108.338715\n",
              "2015-12-30  107.320000   108.368774\n",
              "2015-12-31  105.260002   108.344315\n",
              "2016-01-04  105.349998   108.027596\n",
              "...                ...          ...\n",
              "2019-12-11  270.769989   245.561218\n",
              "2019-12-12  271.459991   246.483032\n",
              "2019-12-13  275.149994   247.431549\n",
              "2019-12-16  279.859985   248.753143\n",
              "2019-12-17  280.410004   250.655472\n",
              "\n",
              "[1001 rows x 2 columns]"
            ]
          },
          "metadata": {
            "tags": []
          },
          "execution_count": 35
        }
      ]
    },
    {
      "cell_type": "code",
      "metadata": {
        "id": "g4ZWgLiVypby",
        "colab_type": "code",
        "colab": {
          "base_uri": "https://localhost:8080/",
          "height": 34
        },
        "outputId": "ab4f7b6d-b54e-4e8f-8dd8-2eea678c2794"
      },
      "source": [
        "# Tests the model\n",
        "# Predict the closing price value of Apple Inc. for the dya of (12/18/2019)\n",
        "# Steps\n",
        "# # # # # # # # # # # # # # # # # # # # # # # # # # # # # # # # # # # # # # #\n",
        "# Get the quote\n",
        "# Convert the data to an array that has the closing price only \n",
        "# Get the last 60 day closing price and scale the data to be values between 0 and 1 inclusive\n",
        "# Create an empty list\n",
        "# Append the past 60 dat price to the empty list\n",
        "# Convert the list to a numpy array\n",
        "# Reshape the numpy array into a 3-dimensional dataset\n",
        "# Input the data to the model\n",
        "# Get the predicted price\n",
        "\n",
        "\n",
        "# Get the quote\n",
        "apple_quote = web.DataReader('AAPL', data_source='yahoo', start='2012-01-01', end='2019-12-17')\n",
        "# Create a new dataframe\n",
        "new_df = apple_quote.filter(['Close'])\n",
        "# Get teh last 60 day closing price \n",
        "last_60_days = new_df[-60:].values\n",
        "# Scale the data to be values between 0 and 1\n",
        "last_60_days_scaled = scaler.transform(last_60_days)\n",
        "# Create an empty list\n",
        "X_test = []\n",
        "# Append teh past 60 days\n",
        "X_test.append(last_60_days_scaled)\n",
        "# Convert the X_test data set to a numpy array\n",
        "X_test = np.array(X_test)\n",
        "# Reshape the data\n",
        "X_test = np.reshape(X_test, (X_test.shape[0], X_test.shape[1], 1))\n",
        "# Get the predicted scaled price\n",
        "pred_price = model.predict(X_test)\n",
        "# undo the scaling \n",
        "pred_price = scaler.inverse_transform(pred_price)\n",
        "print(pred_price)"
      ],
      "execution_count": null,
      "outputs": [
        {
          "output_type": "stream",
          "text": [
            "[[252.55267]]\n"
          ],
          "name": "stdout"
        }
      ]
    },
    {
      "cell_type": "code",
      "metadata": {
        "id": "TUZzW2xWysEm",
        "colab_type": "code",
        "colab": {
          "base_uri": "https://localhost:8080/",
          "height": 68
        },
        "outputId": "e838e572-e634-4d24-b196-fb70b441ea8f"
      },
      "source": [
        "# Looks for the actual price for the stock from a particular day\n",
        "\n",
        "apple_quote2 = web.DataReader('AAPL', data_source='yahoo', start='2019-12-18', end='2019-12-18')\n",
        "print(apple_quote2['Close'])"
      ],
      "execution_count": null,
      "outputs": [
        {
          "output_type": "stream",
          "text": [
            "Date\n",
            "2019-12-18    279.73999\n",
            "Name: Close, dtype: float64\n"
          ],
          "name": "stdout"
        }
      ]
    },
    {
      "cell_type": "markdown",
      "metadata": {
        "id": "yC0P9xunewJi",
        "colab_type": "text"
      },
      "source": [
        "#Cite the author \n",
        "\n",
        "####Arianne Ghislaine Rull is contributing to the project by helping to explain the source code in simple manner.\n",
        "\n",
        "####This Colab notebook's source code is taken from the following links. All credits to the owner.\n",
        "\n",
        "Medium Article -> https://medium.com/@randerson112358/stock-price-prediction-using-python-machine-learning-e82a039ac2bb\n",
        "YouTube Video -> https://www.youtube.com/watch?v=QIUxPv5PJOY&feature=emb_title"
      ]
    }
  ]
}